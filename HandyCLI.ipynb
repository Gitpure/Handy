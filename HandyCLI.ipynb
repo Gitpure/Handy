{
  "nbformat": 4,
  "nbformat_minor": 0,
  "metadata": {
    "colab": {
      "name": "HandyCLI.ipynb",
      "provenance": [],
      "collapsed_sections": []
    },
    "kernelspec": {
      "name": "python3",
      "display_name": "Python 3"
    }
  },
  "cells": [
    {
      "cell_type": "markdown",
      "metadata": {
        "id": "WS1PaSmO8N-g",
        "colab_type": "text"
      },
      "source": [
        "<h3>Paste this code in your Console to stop Colab from disconnecting</h3>\n",
        "\n",
        "```\n",
        "function ClickConnect() {\n",
        "  console.log('Working')\n",
        "  document\n",
        "    .querySelector('#top-toolbar > colab-connect-button')\n",
        "    .shadowRoot.querySelector('#connect')\n",
        "    .click()\n",
        "}\n",
        "setInterval(ClickConnect, 60000)\n",
        "```\n",
        "\n",
        "\n",
        "\n",
        "\n",
        "\n"
      ]
    },
    {
      "cell_type": "code",
      "metadata": {
        "id": "eYSZh4dJ2D8q",
        "colab_type": "code",
        "cellView": "form",
        "colab": {}
      },
      "source": [
        "#@title <Center>Mount Google Drive </Center>\n",
        "#@markdown <Center> <img src=\"https://kstatic.googleusercontent.com/files/e20dbc1db7b6eab22fb2d07df8043f8a74b301dbb8c176e6a1992b2dc229c5ae94b5c260cf549c41712fa40b7e639166c6a8461303a27c2a3b9c55b8ca155ec3\" class=\"icon\" alt=\"Icon\">\n",
        "\n",
        "from google.colab import drive\n",
        "drive.mount('/content/drive')"
      ],
      "execution_count": 0,
      "outputs": []
    },
    {
      "cell_type": "markdown",
      "metadata": {
        "id": "pCPualPTTLMa",
        "colab_type": "text"
      },
      "source": [
        "#Run These first"
      ]
    },
    {
      "cell_type": "code",
      "metadata": {
        "id": "BuvdTmE_Ersm",
        "colab_type": "code",
        "cellView": "form",
        "colab": {}
      },
      "source": [
        "#@title <---Install HandBrake and rClone\n",
        "!mkdir -p /content/temp/HandbrakeTemp\n",
        "!mkdir /content/drives/\n",
        "!mkdir -p /root/.config/rclone\n",
        "\n",
        "!apt-get install handbrake-cli\n",
        "!curl https://rclone.org/install.sh | sudo bash\n",
        "from os import system\n",
        "from time import sleep \n",
        "def clear():\n",
        "  system('clear')"
      ],
      "execution_count": 0,
      "outputs": []
    },
    {
      "cell_type": "code",
      "metadata": {
        "id": "J-S7hYTzLpZK",
        "colab_type": "code",
        "cellView": "form",
        "colab": {}
      },
      "source": [
        "#@title <-----Upload Rclone .config file\n",
        "def moveConfig():\n",
        "  !mv /content/rclone.conf /root/.config/rclone/rclone.conf\n",
        "\n",
        "from google.colab import files\n",
        "\n",
        "uploaded = files.upload()\n",
        "\n",
        "for fn in uploaded.keys():\n",
        "  print('User uploaded file \"{name}\" with length {length} bytes'.format(\n",
        "      name=fn, length=len(uploaded[fn])))\n",
        "moveConfig()\n",
        "print(\"Moved rclone.conf to /root/.config/rclone/rclone.conf\")"
      ],
      "execution_count": 0,
      "outputs": []
    },
    {
      "cell_type": "markdown",
      "metadata": {
        "id": "a4TZEfjtSF5C",
        "colab_type": "text"
      },
      "source": [
        "# <center>Rclone Mount/unMount </center>\n",
        "<center><img src=\"https://forum.rclone.org/uploads/default/original/2X/d/da6ccb2784ff3fa73d9339300530e0aae4d6cebd.png\" alt=\"rclone forum\" width=150></center>"
      ]
    },
    {
      "cell_type": "code",
      "metadata": {
        "id": "f5MNshJxOwb5",
        "colab_type": "code",
        "cellView": "form",
        "colab": {}
      },
      "source": [
        "#@title Mount Drive\n",
        "remote_name = \"drive\" #@param [\"drive\", \"odrive\", \"devtest\", \"dev-test\", \"sg-gmail\"]\n",
        "!mkdir /content/drives/$remote_name\n",
        "!rclone mount $remote_name:/ \"/content/drives/$remote_name\" --user-agent \"Mozilla\" --buffer-size 256M --transfers 10 --vfs-cache-mode full --vfs-cache-max-age 0h0m1s --vfs-cache-poll-interval 0m1s --cache-dir \"/content/temp/rCloneTemp\" --allow-other --daemon"
      ],
      "execution_count": 0,
      "outputs": []
    },
    {
      "cell_type": "code",
      "metadata": {
        "id": "jvV810xJHxwy",
        "colab_type": "code",
        "cellView": "form",
        "colab": {}
      },
      "source": [
        "#@title Unmount Drive(s)\n",
        "remote_name = \"drive\" #@param [\"drive\", \"odrive\", \"devtest\", \"dev-test\", \"sg-gmail\"]\n",
        "!fusermount -u /content/drives/$remote_name"
      ],
      "execution_count": 0,
      "outputs": []
    },
    {
      "cell_type": "markdown",
      "metadata": {
        "id": "a9Zjw2QUTP1A",
        "colab_type": "text"
      },
      "source": [
        "# <center>***HandBrake*** </center> \n",
        "#<Center> <img src=\"https://handbrake.fr/img/logo.png\" width=\"40\"></center>"
      ]
    },
    {
      "cell_type": "code",
      "metadata": {
        "colab_type": "code",
        "cellView": "both",
        "id": "ZfvTRPalNwCB",
        "colab": {}
      },
      "source": [
        "#@title <center> Handbrake Configuration </center>\n",
        "#@markdown ---\n",
        "SOURCE = \"/content/drives/drive/HandBrake/Tower.mp4\" #@param {type:\"string\"}\n",
        "NAME = \"Tower of God - 11[480p].mp4\" #@param {type:\"string\"}\n",
        "#rTemp=\"/content/temp/vfs/\"+NAME\n",
        "hTemp=\"/content/temp/HandbrakeTemp/\"\n",
        "OUTPUT=hTemp+NAME\n",
        "#!rclone copy \"$SOURCE\" \"$rTemp\" \n",
        "FORMAT = \"av_mp4\" #@param [\"av_mp4\", \"av_mkv\"]\n",
        "RESOLUTION = \"480p\" #@param [\"Manual Input\", \"480p\", \"720p\", \"1080p\"]\n",
        "def res():\n",
        "  if RESOLUTION == \"Manual Input\":\n",
        "   w=input(\"Enter Width:\")\n",
        "   h=input(\"Enter Height:\")\n",
        "  elif RESOLUTION == \"480p\":\n",
        "   w=\"854\"\n",
        "   h=\"480\"\n",
        "  elif RESOLUTION == \"720p\":\n",
        "   w=\"1280\"\n",
        "   h=\"720\"\n",
        "  elif RESOLUTION==\"1080p\":\n",
        "   w=\"1920\"\n",
        "   h=\"1080\"\n",
        "res()\n",
        " \n",
        "Encoder_Preset = \"ultrafast\" #@param [\"ultrafast\", \"faster\", \"fast\", \"medium\", \"slow\", \"slower\"]\n",
        "#@markdown Choose Constant Quality Rate [Lower = Higher Quality/\n",
        "#@markdown Larger File Size]\n",
        "CQ = 22 #@param {type:\"slider\", min:10, max:30, step:1}\n",
        " \n",
        " \n",
        "!HandBrakeCLI -i \"/content/drives/drive/Torrent Downloads/[HorribleSubs] Tower of God - 11 [1080p].mkv\" -o \"/content/temp/HandbrakeTemp/tower2\" --quality=\"$CQ\" --encoder x265  --all-audio --all-subtitles --width=854 --height=480 --cfr --optimize --format=$FORMAT --encoder-preset=$Encoder_Preset\n",
        " \n",
        "!rclone move \"$hTemp\" \"$remote_name\":/HandBrake/\n",
        " \n",
        "import smtplib \n",
        "s = smtplib.SMTP('smtp.gmail.com', 587) \n",
        "s.starttls() \n",
        "s.login(\"youremail@gmail.com\", \"YourPASSWORD\")\n",
        "message = \"Task Completed!\"\n",
        "s.sendmail(\"youremail@gmail.com\", \"receiver@mail.com\", message)  \n",
        "s.quit() "
      ],
      "execution_count": 0,
      "outputs": []
    },
    {
      "cell_type": "code",
      "metadata": {
        "id": "baYhb5TeEu2G",
        "colab_type": "code",
        "colab": {}
      },
      "source": [
        "!HandBrakeCLI -i \"SOURCE\" -o \"DESTINATION\" --quality=22 --encoder x265  --all-audio --all-subtitles --width=854 --height=480 --cfr --optimize --format=mp4 --encoder-preset=medium\n",
        "\n",
        "!rclone move \"DESTINATION\" \"$remote_name\":/HandBrake/\n",
        "\n",
        "import smtplib \n",
        "s = smtplib.SMTP('smtp.gmail.com', 587) \n",
        "s.starttls() \n",
        "s.login(\"youremail@gmail.com\", \"YourPASSWORD\")\n",
        "message = \"Task Completed!\"\n",
        "s.sendmail(\"youremail@gmail.com\", \"receiver@mail.com\", message)  \n",
        "s.quit() "
      ],
      "execution_count": 0,
      "outputs": []
    }
  ]
}